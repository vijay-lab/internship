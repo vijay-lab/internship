{
  "nbformat": 4,
  "nbformat_minor": 0,
  "metadata": {
    "colab": {
      "name": "Welcome To Colaboratory",
      "version": "0.3.2",
      "provenance": [],
      "collapsed_sections": [],
      "toc_visible": true,
      "include_colab_link": true
    },
    "kernelspec": {
      "display_name": "Python 3",
      "name": "python3"
    }
  },
  "cells": [
    {
      "cell_type": "markdown",
      "metadata": {
        "id": "view-in-github",
        "colab_type": "text"
      },
      "source": [
        "<a href=\"https://colab.research.google.com/github/vijay-lab/internship/blob/master/Smriti_scraper.ipynb\" target=\"_parent\"><img src=\"https://colab.research.google.com/assets/colab-badge.svg\" alt=\"Open In Colab\"/></a>"
      ]
    },
    {
      "cell_type": "code",
      "metadata": {
        "id": "PDFMmfC6Si4a",
        "colab_type": "code",
        "colab": {}
      },
      "source": [
        "!apt install chromium-chromedriver\n",
        "!cp /usr/lib/chromium-browser/chromedriver /usr/bin\n",
        "!pip install selenium"
      ],
      "execution_count": 0,
      "outputs": []
    },
    {
      "cell_type": "code",
      "metadata": {
        "id": "jjwvWwgbSvDJ",
        "colab_type": "code",
        "colab": {}
      },
      "source": [
        "from selenium import webdriver\n",
        "options = webdriver.ChromeOptions()\n",
        "options.add_argument('-headless')\n",
        "options.add_argument('-no-sandbox')\n",
        "options.add_argument('-disable-dev-shm-usage')"
      ],
      "execution_count": 0,
      "outputs": []
    },
    {
      "cell_type": "code",
      "metadata": {
        "id": "dbRNP4pTVAKu",
        "colab_type": "code",
        "colab": {}
      },
      "source": [
        "driver = webdriver.Chrome('chromedriver',options=options)"
      ],
      "execution_count": 0,
      "outputs": []
    },
    {
      "cell_type": "code",
      "metadata": {
        "id": "SXvKkKHZ8rtn",
        "colab_type": "code",
        "colab": {}
      },
      "source": [
        "import selenium\n",
        "from bs4 import BeautifulSoup\n",
        "import requests\n",
        "import time\n",
        "from collections import OrderedDict\n",
        "import pandas as pd\n",
        "from selenium import webdriver\n",
        "from selenium.webdriver.support.ui import Select\n",
        "\n",
        "\n",
        "\n",
        "letters_val=['a',\n",
        " 'b',\n",
        " 'c',\n",
        " 'd',\n",
        " 'e',\n",
        " 'f',\n",
        " 'g',\n",
        " 'h',\n",
        " 'i',\n",
        " 'j',\n",
        " 'k',\n",
        " 'l',\n",
        " 'm',\n",
        " 'n',\n",
        " 'o',\n",
        " 'p',\n",
        " 'q',\n",
        " 'r',\n",
        " 's',\n",
        " 't',\n",
        " 'u',\n",
        " 'v',\n",
        " 'w',\n",
        " 'y',\n",
        " 'z']\n",
        "\n",
        "movie=[]\n",
        "song=[]\n",
        "singers=[]\n",
        "lyricist=[]\n",
        "year=[]\n",
        "music_director=[]\n",
        "lyrics=[]\n",
        "\n",
        "#driver = webdriver.Chrome(r\"D:\\Forsk\\Day 08\\Work\\chromedriver.exe\")\n",
        "\n",
        "driver = webdriver.Chrome('chromedriver',options=options)\n",
        "from selenium.common.exceptions import NoSuchElementException,ElementClickInterceptedException,ElementNotVisibleException\n",
        "\n",
        "for letter in letters_val:\n",
        "    print('currently scraping singers by letter',letter)\n",
        "    address=\"http://smriti.com/hindi-songs/singers-\"+letter  # selects singer letter\n",
        "    driver.get(address)\n",
        "    singers=[]\n",
        "    for singer in range(2,1000):\n",
        "        print('next singer is being scrapped')\n",
        "        try: #click on singer name\n",
        "            driver.find_element_by_xpath(f'//*[@id=\"content\"]/div/div/a[{singer}]').click()\n",
        "            total_songs=[]\n",
        "            total_songs.append(driver.find_elements_by_class_name('onesong'))\n",
        "            no_of_songs=len(total_songs[0])+1\n",
        "            \n",
        "            for elem in range(1,no_of_songs):\n",
        "                print('currently scraping song no:',elem, 'out of',no_of_songs)\n",
        "                try:\n",
        "                    \n",
        "                    driver.find_element_by_xpath('//*[@id=\"content\"]/div/div/div[{}]/a[2]'.format(elem)).click()\n",
        "                    movie.append(driver.find_element_by_xpath('//*[@id=\"content\"]/div/div/ul/li[1]/a').text)\n",
        "                    song.append(driver.find_element_by_xpath('//*[@id=\"content\"]/div/div/h1').text)\n",
        "                    singers.append(driver.find_element_by_xpath('//*[@id=\"content\"]/div/div/ul/li[2]').text)\n",
        "                    lyricist.append(driver.find_element_by_xpath('//*[@id=\"content\"]/div/div/ul/li[4]').text)\n",
        "                    year.append(driver.find_element_by_xpath('//*[@id=\"content\"]/div/div/ul/li[6]/a[1]').text)\n",
        "                    music_director.append(driver.find_element_by_xpath('//*[@id=\"content\"]/div/div/ul/li[3]/a').text)\n",
        "                    lyrics.append(driver.find_element_by_xpath('//*[@id=\"content\"]/div/div/div[1]').text)\n",
        "                    driver.back()\n",
        "                except Exception as e:\n",
        "                    print(e)\n",
        "                    pass\n",
        "            driver.back() \n",
        "            \n",
        "        except Exception as e:\n",
        "            driver.back()\n",
        "            pass\n",
        "#        for singer in range(2,no_of_singers):\n",
        "            \n",
        "import logging\n",
        "\n",
        "logging.basicConfig(filename='app.log', filemode='w', format='%(name)s - %(levelname)s - %(message)s')\n",
        "logging.warning('This will get logged to a file')\n",
        "\n",
        "print('All done ..phew :)')         \n",
        "            \n"
      ],
      "execution_count": 0,
      "outputs": []
    },
    {
      "cell_type": "code",
      "metadata": {
        "id": "XLgfn_ryVxfa",
        "colab_type": "code",
        "colab": {}
      },
      "source": [
        "print(len(song))\n",
        "print(len(movie))\n",
        "print(len(singers))\n",
        "print(len(lyricist))\n",
        "print(len(year))\n",
        "print(len(music_director))\n",
        "print(len(lyrics))\n"
      ],
      "execution_count": 0,
      "outputs": []
    },
    {
      "cell_type": "code",
      "metadata": {
        "id": "RdVCc7KpBiLd",
        "colab_type": "code",
        "colab": {}
      },
      "source": [
        "music_director"
      ],
      "execution_count": 0,
      "outputs": []
    }
  ]
}